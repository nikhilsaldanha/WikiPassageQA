{
 "cells": [
  {
   "cell_type": "code",
   "execution_count": 94,
   "metadata": {},
   "outputs": [],
   "source": [
    "import pandas as pd\n",
    "import numpy as np\n",
    "import string\n",
    "import json\n",
    "table = str.maketrans('', '', string.punctuation)\n",
    "import nltk\n",
    "from nltk.stem import PorterStemmer\n",
    "from nltk.stem import LancasterStemmer\n",
    "from nltk.tokenize import word_tokenize\n",
    "from nltk.stem.snowball import SnowballStemmer\n",
    "from nltk.corpus import stopwords\n",
    "Stemmer=SnowballStemmer(\"english\", ignore_stopwords=True)\n",
    "from nltk.stem import WordNetLemmatizer\n",
    "wordnet_lemmatizer = WordNetLemmatizer()\n",
    "from gensim.parsing.preprocessing import remove_stopwords\n",
    "from sklearn.feature_extraction.text import CountVectorizer\n",
    "from sklearn.feature_extraction.text import TfidfTransformer"
   ]
  },
  {
   "cell_type": "code",
   "execution_count": 85,
   "metadata": {},
   "outputs": [],
   "source": [
    "def word_count(str):\n",
    "    counts = dict()\n",
    "    str=remove_stopwords(str)\n",
    "    words = word_tokenize(str)\n",
    "    #removing stop words\n",
    "    for word in words:\n",
    "        #word = Stemmer.stem(word)\n",
    "        word= wordnet_lemmatizer.lemmatize(word)\n",
    "        if word in counts:\n",
    "            counts[word] += 1\n",
    "        else:\n",
    "            counts[word] = 1\n",
    "    return counts"
   ]
  },
  {
   "cell_type": "code",
   "execution_count": 86,
   "metadata": {},
   "outputs": [],
   "source": [
    "with open('../data/raw/WikiPassageQA/document_passages.json') as f:\n",
    "    data = json.load(f)"
   ]
  },
  {
   "cell_type": "code",
   "execution_count": 87,
   "metadata": {},
   "outputs": [],
   "source": [
    "df = pd.read_csv(\"../data/raw/extracted_query_data/train_exp.csv\")"
   ]
  },
  {
   "cell_type": "code",
   "execution_count": 109,
   "metadata": {},
   "outputs": [
    {
     "data": {
      "text/html": [
       "<div>\n",
       "<style scoped>\n",
       "    .dataframe tbody tr th:only-of-type {\n",
       "        vertical-align: middle;\n",
       "    }\n",
       "\n",
       "    .dataframe tbody tr th {\n",
       "        vertical-align: top;\n",
       "    }\n",
       "\n",
       "    .dataframe thead th {\n",
       "        text-align: right;\n",
       "    }\n",
       "</style>\n",
       "<table border=\"1\" class=\"dataframe\">\n",
       "  <thead>\n",
       "    <tr style=\"text-align: right;\">\n",
       "      <th></th>\n",
       "      <th>DocumentID</th>\n",
       "      <th>DocumentName</th>\n",
       "      <th>QID</th>\n",
       "      <th>Question</th>\n",
       "      <th>RelevantPassages</th>\n",
       "    </tr>\n",
       "  </thead>\n",
       "  <tbody>\n",
       "    <tr>\n",
       "      <th>0</th>\n",
       "      <td>672</td>\n",
       "      <td>Evangelicalism.html</td>\n",
       "      <td>3086</td>\n",
       "      <td>What is the role of conversionism in Evangelic...</td>\n",
       "      <td>4</td>\n",
       "    </tr>\n",
       "    <tr>\n",
       "      <th>1</th>\n",
       "      <td>359</td>\n",
       "      <td>French_Revolution.html</td>\n",
       "      <td>195</td>\n",
       "      <td>How did the assault on the Bastille the first ...</td>\n",
       "      <td>1</td>\n",
       "    </tr>\n",
       "    <tr>\n",
       "      <th>2</th>\n",
       "      <td>359</td>\n",
       "      <td>French_Revolution.html</td>\n",
       "      <td>195</td>\n",
       "      <td>How did the assault on the Bastille the first ...</td>\n",
       "      <td>2</td>\n",
       "    </tr>\n",
       "    <tr>\n",
       "      <th>3</th>\n",
       "      <td>285</td>\n",
       "      <td>Albania.html</td>\n",
       "      <td>557</td>\n",
       "      <td>What is the prehistory of Albania?</td>\n",
       "      <td>4</td>\n",
       "    </tr>\n",
       "    <tr>\n",
       "      <th>4</th>\n",
       "      <td>579</td>\n",
       "      <td>Central_Powers.html</td>\n",
       "      <td>1508</td>\n",
       "      <td>What significance did Bulgaria have in the end...</td>\n",
       "      <td>14</td>\n",
       "    </tr>\n",
       "    <tr>\n",
       "      <th>...</th>\n",
       "      <td>...</td>\n",
       "      <td>...</td>\n",
       "      <td>...</td>\n",
       "      <td>...</td>\n",
       "      <td>...</td>\n",
       "    </tr>\n",
       "    <tr>\n",
       "      <th>5555</th>\n",
       "      <td>641</td>\n",
       "      <td>Ancient_Egypt.html</td>\n",
       "      <td>1971</td>\n",
       "      <td>How did conquering of Alexander the great effe...</td>\n",
       "      <td>29</td>\n",
       "    </tr>\n",
       "    <tr>\n",
       "      <th>5556</th>\n",
       "      <td>641</td>\n",
       "      <td>Ancient_Egypt.html</td>\n",
       "      <td>1971</td>\n",
       "      <td>How did conquering of Alexander the great effe...</td>\n",
       "      <td>30</td>\n",
       "    </tr>\n",
       "    <tr>\n",
       "      <th>5557</th>\n",
       "      <td>740</td>\n",
       "      <td>Amnesty_International.html</td>\n",
       "      <td>1153</td>\n",
       "      <td>What is Amnesty International?</td>\n",
       "      <td>0</td>\n",
       "    </tr>\n",
       "    <tr>\n",
       "      <th>5558</th>\n",
       "      <td>740</td>\n",
       "      <td>Amnesty_International.html</td>\n",
       "      <td>1153</td>\n",
       "      <td>What is Amnesty International?</td>\n",
       "      <td>9</td>\n",
       "    </tr>\n",
       "    <tr>\n",
       "      <th>5559</th>\n",
       "      <td>186</td>\n",
       "      <td>United_States_dollar.html</td>\n",
       "      <td>2944</td>\n",
       "      <td>What is the origin of the dollar sign?</td>\n",
       "      <td>13</td>\n",
       "    </tr>\n",
       "  </tbody>\n",
       "</table>\n",
       "<p>5560 rows × 5 columns</p>\n",
       "</div>"
      ],
      "text/plain": [
       "      DocumentID                DocumentName   QID  \\\n",
       "0            672         Evangelicalism.html  3086   \n",
       "1            359      French_Revolution.html   195   \n",
       "2            359      French_Revolution.html   195   \n",
       "3            285                Albania.html   557   \n",
       "4            579         Central_Powers.html  1508   \n",
       "...          ...                         ...   ...   \n",
       "5555         641          Ancient_Egypt.html  1971   \n",
       "5556         641          Ancient_Egypt.html  1971   \n",
       "5557         740  Amnesty_International.html  1153   \n",
       "5558         740  Amnesty_International.html  1153   \n",
       "5559         186   United_States_dollar.html  2944   \n",
       "\n",
       "                                               Question  RelevantPassages  \n",
       "0     What is the role of conversionism in Evangelic...                 4  \n",
       "1     How did the assault on the Bastille the first ...                 1  \n",
       "2     How did the assault on the Bastille the first ...                 2  \n",
       "3                    What is the prehistory of Albania?                 4  \n",
       "4     What significance did Bulgaria have in the end...                14  \n",
       "...                                                 ...               ...  \n",
       "5555  How did conquering of Alexander the great effe...                29  \n",
       "5556  How did conquering of Alexander the great effe...                30  \n",
       "5557                     What is Amnesty International?                 0  \n",
       "5558                     What is Amnesty International?                 9  \n",
       "5559             What is the origin of the dollar sign?                13  \n",
       "\n",
       "[5560 rows x 5 columns]"
      ]
     },
     "execution_count": 109,
     "metadata": {},
     "output_type": "execute_result"
    }
   ],
   "source": [
    "df"
   ]
  },
  {
   "cell_type": "code",
   "execution_count": 88,
   "metadata": {},
   "outputs": [],
   "source": [
    "docid=str(df.iloc[0][0])\n",
    "relp = str(df.iloc[0][4])\n",
    "question=df.iloc[0][3].translate(table).lower()\n",
    "passage=data[docid][relp].translate(table).lower()"
   ]
  },
  {
   "cell_type": "code",
   "execution_count": 89,
   "metadata": {},
   "outputs": [
    {
     "name": "stdout",
     "output_type": "stream",
     "text": [
      "The overlapping words between question and passage is:- \n",
      "{'evangelicalism', 'conversionism'}\n",
      "Total number of overlapping words: 2\n",
      "Counts of the overlapping words in question and passage:-\n",
      "Q count for the word 'evangelicalism' is 1\n",
      "P count for the word 'evangelicalism' is 1\n",
      "Q count for the word 'conversionism' is 1\n",
      "P count for the word 'conversionism' is 1\n"
     ]
    }
   ],
   "source": [
    "q = word_count(question)\n",
    "p = word_count(passage)\n",
    "setA = set(q)\n",
    "setB = set(p)\n",
    "print(\"The overlapping words between question and passage is:- \")\n",
    "print(setA.intersection(setB))\n",
    "print(\"Total number of overlapping words: \"+str(len(setA.intersection(setB))))\n",
    "print(\"Counts of the overlapping words in question and passage:-\")\n",
    "for item in setA.intersection(setB):\n",
    "    print(\"Q count for the word '\"+ item +\"' is \"+str(q[item]))\n",
    "    print(\"P count for the word '\"+ item +\"' is \"+str(p[item]))"
   ]
  },
  {
   "cell_type": "code",
   "execution_count": 100,
   "metadata": {},
   "outputs": [],
   "source": [
    "counts=[]\n",
    "Qcounts=[]\n",
    "Pcounts=[]\n",
    "for i in range(len(df)):\n",
    "    docid=str(df.iloc[i][0])\n",
    "    relp = str(df.iloc[i][4])\n",
    "    question=df.iloc[i][3].translate(table).lower()\n",
    "    passage=data[docid][relp].translate(table).lower()\n",
    "    q = word_count(question)\n",
    "    p = word_count(passage)\n",
    "    setA = set(q)\n",
    "    setB = set(p)\n",
    "    intersect = setA.intersection(setB)\n",
    "    resQ = {key: q[key] for key in intersect} \n",
    "    resP = {key: p[key] for key in intersect}\n",
    "    Qcounts.append(resQ)\n",
    "    Pcounts.append(resP)\n",
    "    counts.append(len(intersect))"
   ]
  },
  {
   "cell_type": "code",
   "execution_count": 101,
   "metadata": {},
   "outputs": [
    {
     "data": {
      "text/plain": [
       "(2.427697841726619, 1.4443473627849468)"
      ]
     },
     "execution_count": 101,
     "metadata": {},
     "output_type": "execute_result"
    }
   ],
   "source": [
    "counts = np.array(counts)\n",
    "counts.mean(),counts.std()"
   ]
  },
  {
   "cell_type": "code",
   "execution_count": 120,
   "metadata": {},
   "outputs": [
    {
     "data": {
      "text/plain": [
       "(['birth', 'considered', 'rate'], [4, 1, 4])"
      ]
     },
     "execution_count": 120,
     "metadata": {},
     "output_type": "execute_result"
    }
   ],
   "source": [
    "list(Qcounts[10].keys()),list(Pcounts[10].values())"
   ]
  },
  {
   "cell_type": "code",
   "execution_count": 130,
   "metadata": {},
   "outputs": [],
   "source": [
    "allquestions = list(df[\"Question\"])\n",
    "allpassages=[]\n",
    "for i in data.keys():\n",
    "    for j in data[i].keys():\n",
    "        allpassages.append(data[i][j])\n",
    "allsent = allpassages+allquestions        "
   ]
  },
  {
   "cell_type": "code",
   "execution_count": 129,
   "metadata": {},
   "outputs": [],
   "source": [
    "vectorizer = CountVectorizer()\n",
    "X = vectorizer.fit(allsent)"
   ]
  },
  {
   "cell_type": "code",
   "execution_count": null,
   "metadata": {},
   "outputs": [],
   "source": []
  }
 ],
 "metadata": {
  "kernelspec": {
   "display_name": "Python 3",
   "language": "python",
   "name": "python3"
  },
  "language_info": {
   "codemirror_mode": {
    "name": "ipython",
    "version": 3
   },
   "file_extension": ".py",
   "mimetype": "text/x-python",
   "name": "python",
   "nbconvert_exporter": "python",
   "pygments_lexer": "ipython3",
   "version": "3.7.3"
  }
 },
 "nbformat": 4,
 "nbformat_minor": 2
}
